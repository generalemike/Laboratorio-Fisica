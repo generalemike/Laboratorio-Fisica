{
  "nbformat": 4,
  "nbformat_minor": 0,
  "metadata": {
    "colab": {
      "name": "EsperimentoFoucault_1.ipynb",
      "provenance": [],
      "collapsed_sections": [],
      "toc_visible": true
    },
    "kernelspec": {
      "name": "python3",
      "display_name": "Python 3"
    },
    "language_info": {
      "name": "python"
    }
  },
  "cells": [
    {
      "cell_type": "markdown",
      "metadata": {
        "id": "IgJmx0gqv9uV"
      },
      "source": [
        "# Esperimento Di Foucault - parte 1"
      ]
    },
    {
      "cell_type": "markdown",
      "metadata": {
        "id": "w9H1NXgGwzGT"
      },
      "source": [
        "##Importo Le Librerie"
      ]
    },
    {
      "cell_type": "code",
      "metadata": {
        "id": "TXvgCOECw21u"
      },
      "source": [
        "import numpy as np  \n",
        "from matplotlib import pyplot as plt \n",
        "from scipy.optimize import curve_fit \n",
        "from scipy import odr\n",
        "from ipywidgets import interact, interact_manual, FloatSlider, Checkbox, BoundedFloatText\n",
        "from google.colab import files"
      ],
      "execution_count": 3,
      "outputs": []
    },
    {
      "cell_type": "markdown",
      "metadata": {
        "id": "zmcm2CAwwMnm"
      },
      "source": [
        "##Fit Lineare"
      ]
    },
    {
      "cell_type": "markdown",
      "metadata": {
        "id": "Q0ZUNQ2ewRSH"
      },
      "source": [
        "### Raccolgo I Dati"
      ]
    },
    {
      "cell_type": "code",
      "metadata": {
        "id": "2wxn_eczwUgi"
      },
      "source": [
        "distanza_iniziale       =     0 # m\n",
        "distanza_iniziale_err   =     0.001 # m\n",
        "tempo_iniziale          =     -12.78 * (10 ** -9) # s\n",
        "tempo_iniziale_err      =     0.15 * (10 ** -9) # s\n",
        "\n",
        "distanze                =     [8, 20, 92.3, 172.2, 238.9, 323.9, 382.6, 459.7, 548.7, 608.7] # cm\n",
        "tempi                   =     [0.57, 1.31, 6.22, 11.5, 16, 21.7, 25.6, 30.7, 36.7, 40.7] # nanosecondi (ns)\n",
        "\n",
        "distanze_err            =     [0.10] * len(distanze) # cm\n",
        "tempi_err               =     [0.32, 0.34, 0.31, 0.3, 0.24, 0.25, 0.33, 0.27, 0.29, 0.26] # nanosecondi (ns)"
      ],
      "execution_count": 4,
      "outputs": []
    },
    {
      "cell_type": "code",
      "metadata": {
        "colab": {
          "base_uri": "https://localhost:8080/",
          "height": 296
        },
        "id": "39j42PJtwK_f",
        "outputId": "c3d39828-f084-41ba-cea4-3a5cf8a494c6"
      },
      "source": [
        "tempi = [i * (10 ** (-9)) for i in tempi]\n",
        "distanze = [i * (10 ** (-2)) for i in distanze]\n",
        "tempi_err = [i * (10 ** (-9)) for i in tempi_err]\n",
        "distanze_err = [i * (10 ** (-2)) for i in distanze_err]\n",
        "\n",
        "print(len(distanze), len(tempi))\n",
        "\n",
        "# escludo i primi due punti perché sono meno coerenti degli altri, così avrò un risultato migliore dal fit\n",
        "x = np.array(tempi)[2:]\n",
        "x_err = np.array(tempi_err)[2:]\n",
        "y = np.array(distanze)[2:]\n",
        "y_err = np.array(distanze_err)[2:]\n",
        "\n",
        "plt.xlabel(\"delta t\")\n",
        "plt.ylabel(\"distanza\")\n",
        "plt.errorbar(x, y, xerr = x_err, yerr = y_err, capsize=10)\n",
        "_= plt.scatter(x, y)"
      ],
      "execution_count": 5,
      "outputs": [
        {
          "output_type": "stream",
          "text": [
            "10 10\n"
          ],
          "name": "stdout"
        },
        {
          "output_type": "display_data",
          "data": {
            "image/png": "[encoded data removed]",
            "text/plain": [
              "<Figure size 432x288 with 1 Axes>"
            ]
          },
          "metadata": {
            "tags": [],
            "needs_background": "light"
          }
        }
      ]
    },
    {
      "cell_type": "markdown",
      "metadata": {
        "id": "moSBXNvl85Qi"
      },
      "source": [
        "### Eseguo Il Fit"
      ]
    },
    {
      "cell_type": "code",
      "metadata": {
        "id": "QgTb7ARgxMNq"
      },
      "source": [
        "#Definizione funzione di fit \n",
        "def retta(x,A,B): \n",
        "  return A*x+B"
      ],
      "execution_count": 6,
      "outputs": []
    },
    {
      "cell_type": "code",
      "metadata": {
        "id": "43gpO6aC99sg"
      },
      "source": [
        "def fitplot(A, B, print_output=True):\n",
        " \n",
        "  guess = np.array([A,B]) #array of initial guesses\n",
        "  bounds = ([-np.inf,-np.inf], [np.inf,np.inf]) \n",
        "\n",
        "  plt.figure(figsize=(9, 6))\n",
        " \n",
        "  popt, pcov = curve_fit(retta, x, y)\n",
        "\n",
        "                                                                                                \n",
        "  #plotting fit result\n",
        "  plt.errorbar(x, y, xerr=x_err, yerr = y_err, capsize=5)\n",
        "  plt.scatter(x,y, s=25, c = \"c\", label=\"Exp.\")     #plot data points without errorbars\n",
        "  plt.plot(x,retta(x,popt[0],popt[1]),color= \"m\" ,label=\"Fit\",linewidth=1)\n",
        "  plt.xlabel(\"\")\n",
        "  plt.ylabel(\"\")\n",
        "  plt.grid(which='both')\n",
        "  plt.legend()\n",
        "  plt.show()\n",
        "  \n",
        "  \n",
        "  \n",
        "  if print_output:\n",
        "    label = [\"c\", \"B\"]\n",
        "    for l, v, e in zip(label, popt, np.sqrt(np.diag(pcov))) :\n",
        "      print(\"%10s = %9.6f +- %7.6f\" % (l ,v * 2, e * 2))\n",
        "      break"
      ],
      "execution_count": 11,
      "outputs": []
    },
    {
      "cell_type": "code",
      "metadata": {
        "colab": {
          "base_uri": "https://localhost:8080/",
          "height": 404
        },
        "id": "ovD9CGRS-Paq",
        "outputId": "6149a3a4-9d96-4a77-91ec-2e39581c3405"
      },
      "source": [
        "fitplot(0, 0)"
      ],
      "execution_count": 12,
      "outputs": [
        {
          "output_type": "display_data",
          "data": {
            "image/png": "[encoded data removed]",
            "text/plain": [
              "<Figure size 648x432 with 1 Axes>"
            ]
          },
          "metadata": {
            "tags": [],
            "needs_background": "light"
          }
        },
        {
          "output_type": "stream",
          "text": [
            "         c = 299415749.484886 +- 261845.483737\n"
          ],
          "name": "stdout"
        }
      ]
    }
  ]
}