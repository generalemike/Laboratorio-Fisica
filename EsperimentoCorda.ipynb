{
  "nbformat": 4,
  "nbformat_minor": 0,
  "metadata": {
    "colab": {
      "name": "EsperimentoCorda.ipynb",
      "provenance": [],
      "collapsed_sections": [
        "6TJAPSjkh_h1",
        "Qn2ctzZX1ZKS"
      ]
    },
    "kernelspec": {
      "name": "python3",
      "display_name": "Python 3"
    },
    "language_info": {
      "name": "python"
    }
  },
  "cells": [
    {
      "cell_type": "markdown",
      "metadata": {
        "id": "8sGHJKY_h6ge"
      },
      "source": [
        "#Esperimento Corda"
      ]
    },
    {
      "cell_type": "markdown",
      "metadata": {
        "id": "xiCSIvQXlpzn"
      },
      "source": [
        "## Importo Le Librerie"
      ]
    },
    {
      "cell_type": "code",
      "metadata": {
        "id": "JmXQIrzIluQU"
      },
      "source": [
        "import numpy as np  \n",
        "from matplotlib import pyplot as plt \n",
        "from scipy.optimize import curve_fit \n",
        "from scipy import odr\n",
        "from ipywidgets import interact, interact_manual, FloatSlider, Checkbox, BoundedFloatText\n",
        "from google.colab import files"
      ],
      "execution_count": 53,
      "outputs": []
    },
    {
      "cell_type": "markdown",
      "metadata": {
        "id": "6TJAPSjkh_h1"
      },
      "source": [
        "## Fit Lineare 1"
      ]
    },
    {
      "cell_type": "markdown",
      "metadata": {
        "id": "iWEKRMrbh_Z1"
      },
      "source": [
        "### Raccolgo I Dati"
      ]
    },
    {
      "cell_type": "code",
      "metadata": {
        "colab": {
          "base_uri": "https://localhost:8080/"
        },
        "id": "EuPPhw_8h458",
        "outputId": "9b77c443-4b2d-4dd6-c960-c2a5ba1ea6f5"
      },
      "source": [
        "lunghezza_filo_totale = 1.35 #m\n",
        "lunghezza_filo_oscillante = 0.88 #m\n",
        "lunghezza_filo_oscillante_err = 0.001 #m\n",
        "massa_tarata = 0.100 # kg\n",
        "frequenza_1 = 12.10 #hz forse 13.10\n",
        "frequenza_1_err = 0.10 #hz\n",
        "\n",
        "n = 9\n",
        "\n",
        "modi = [i for i in range(n - 1)]\n",
        "frequenze_fondamentali = [frequenza_1 * i for i in range(1, n)]\n",
        "errori_frequenze_fondamentali = [frequenza_1_err] * (n - 1)\n",
        "k = [i * np.pi / lunghezza_filo_oscillante for i in range(1, 9)]\n",
        "k_err = [(lunghezza_filo_oscillante_err / lunghezza_filo_oscillante) * k[i] for i in range(len(k))]\n",
        "\n",
        "w = [2 * np.pi * frequenze_fondamentali[i] for i in range(0, n - 1)]\n",
        "w_err = [2 * np.pi * 0.10] * (n - 1)\n",
        "\n",
        "print(k)\n",
        "print(k_err)\n",
        "print(w)\n",
        "print(w_err)\n"
      ],
      "execution_count": 76,
      "outputs": [
        {
          "output_type": "stream",
          "text": [
            "[3.5699916518065833, 7.139983303613167, 10.70997495541975, 14.279966607226333, 17.849958259032917, 21.4199499108395, 24.98994156264608, 28.559933214452666]\n",
            "[0.004056808695234754, 0.008113617390469507, 0.01217042608570426, 0.016227234780939015, 0.02028404347617377, 0.02434085217140852, 0.028397660866643273, 0.03245446956187803]\n",
            "[76.026542216873, 152.053084433746, 228.07962665061896, 304.106168867492, 380.132711084365, 456.1592533012379, 532.1857955181109, 608.212337734984]\n",
            "[0.6283185307179586, 0.6283185307179586, 0.6283185307179586, 0.6283185307179586, 0.6283185307179586, 0.6283185307179586, 0.6283185307179586, 0.6283185307179586]\n"
          ],
          "name": "stdout"
        }
      ]
    },
    {
      "cell_type": "markdown",
      "metadata": {
        "id": "Qn2ctzZX1ZKS"
      },
      "source": [
        "### Plot Dei Dati"
      ]
    },
    {
      "cell_type": "code",
      "metadata": {
        "colab": {
          "base_uri": "https://localhost:8080/",
          "height": 265
        },
        "id": "n0mp9rzCji4V",
        "outputId": "bc393a4c-9d7d-4d61-e5df-66c26650fdd7"
      },
      "source": [
        "x = np.array(k)\n",
        "y = np.array(w)\n",
        "x_err = np.array(k_err)\n",
        "y_err = np.array(w_err)\n",
        "\n",
        "plt.figure()\n",
        "plt.grid()\n",
        "_ = plt.errorbar(x, y, xerr=x_err, yerr=y_err, capsize=5)"
      ],
      "execution_count": 82,
      "outputs": [
        {
          "output_type": "display_data",
          "data": {
            "image/png": "[encoded data removed]",
            "text/plain": [
              "<Figure size 432x288 with 1 Axes>"
            ]
          },
          "metadata": {
            "tags": [],
            "needs_background": "light"
          }
        }
      ]
    },
    {
      "cell_type": "markdown",
      "metadata": {
        "id": "1IXRKrg9oYVl"
      },
      "source": [
        "### Fit Dei Dati"
      ]
    },
    {
      "cell_type": "code",
      "metadata": {
        "id": "a5WMNug-oF8k"
      },
      "source": [
        "#Definizione funzione di fit \n",
        "def retta(x,A,B): \n",
        "  return A*x+B"
      ],
      "execution_count": 78,
      "outputs": []
    },
    {
      "cell_type": "code",
      "metadata": {
        "id": "k6r7aXyGo1xc"
      },
      "source": [
        "# Fitting routine\n",
        "# esegue il fit dei dati a partire da una stima dei dati iniziali\n",
        "#\n",
        " \n",
        "def fitplot(A, B, print_output=True):\n",
        " \n",
        "  guess = np.array([A,B]) #array of initial guesses\n",
        "  bounds = ([-np.inf,-np.inf], [np.inf,np.inf]) \n",
        "\n",
        "  plt.figure(figsize=(9, 6))\n",
        " \n",
        "  popt, pcov = curve_fit(retta, x, y)\n",
        "\n",
        "                                                                                                \n",
        "  #plotting fit result\n",
        "  plt.errorbar(x, y, xerr=x_err, yerr = y_err, capsize=5)\n",
        "  plt.scatter(x,y, s=25, c = \"c\", label=\"Exp.\")     #plot data points without errorbars\n",
        "  plt.plot(x,retta(x,popt[0],popt[1]),color= \"m\" ,label=\"Fit\",linewidth=1)\n",
        "  plt.xlabel(\"\")\n",
        "  plt.ylabel(\"\")\n",
        "  plt.grid(which='both')\n",
        "  plt.legend()\n",
        "  plt.show()\n",
        "  \n",
        "  \n",
        "  \n",
        "  if print_output:\n",
        "    label = [\"A\", \"B\"]\n",
        "    for l, v, e in zip(label, popt, np.sqrt(np.diag(pcov))) :\n",
        "      print(\"%10s = %9.6f +- %7.6f\" % (l ,v, e))\n",
        "    print(\"\\n\")\n",
        " "
      ],
      "execution_count": 88,
      "outputs": []
    },
    {
      "cell_type": "code",
      "metadata": {
        "colab": {
          "base_uri": "https://localhost:8080/",
          "height": 442
        },
        "id": "0_WKZazZp2ek",
        "outputId": "68571a8a-269a-4515-b93f-c456e63d70b1"
      },
      "source": [
        "fitplot(21, 0)"
      ],
      "execution_count": 89,
      "outputs": [
        {
          "output_type": "display_data",
          "data": {
            "image/png": "[encoded data removed]",
            "text/plain": [
              "<Figure size 648x432 with 1 Axes>"
            ]
          },
          "metadata": {
            "tags": [],
            "needs_background": "light"
          }
        },
        {
          "output_type": "stream",
          "text": [
            "         A = 21.296000 +- 0.000000\n",
            "         B = -0.000002 +- 0.000000\n",
            "\n",
            "\n"
          ],
          "name": "stdout"
        }
      ]
    },
    {
      "cell_type": "markdown",
      "metadata": {
        "id": "oo3BiEG0rdqU"
      },
      "source": [
        "## Fit Lineare 2"
      ]
    },
    {
      "cell_type": "markdown",
      "metadata": {
        "id": "SeVgJGhTriBl"
      },
      "source": [
        "### Raccolgo I Dati"
      ]
    },
    {
      "cell_type": "code",
      "metadata": {
        "colab": {
          "base_uri": "https://localhost:8080/"
        },
        "id": "otnMuo0Wrfvc",
        "outputId": "7087a61a-7b50-4fdc-bc47-e9c15c4aa7d8"
      },
      "source": [
        "#massa_tara = 49.7\n",
        "#masse = [49.3, 99.2, 199.4, 199.8]\n",
        "lunghezza_filo_totale = 1.35 #m\n",
        "lunghezza_filo_oscillante = 0.88 #m\n",
        "lunghezza_filo_oscillante_err = 0.001 #m\n",
        "\n",
        "# masse g\n",
        "massa_1 = 49.7 + 99.2 # tara + 100\n",
        "massa_2 = massa_1 + 49.3 # tara + 100 + piccolino \n",
        "massa_3 = 49.7 + 199.4 # tara + 200s\n",
        "massa_4 = massa_3 + 49.7 # tara + 200s + piccolino\n",
        "massa_5 = massa_3 + 99.2 # tara + 200s + 100\n",
        "massa_6 = massa_5 + 49.3 # tara + 200s + 100 + piccolino\n",
        "massa_7 = massa_3 + 199.8 # tara + 200s + 200\n",
        "massa_8 = massa_7 + 49.3 # tara + 200s + 200 + piccolino\n",
        "massa_9 = massa_7 + 99.2 # tara + 200s + 200 + 100\n",
        "massa_10 = massa_9 + 49.3 # tara + 200s + 200 + 100 + piccolino\n",
        "\n",
        "# frequenze hz\n",
        "frequenza_1 = 12.1\n",
        "frequenza_2 = 14.12\n",
        "frequenza_3 = 16.3\n",
        "frequenza_4 = 17.28\n",
        "frequenza_5 = 18.57\n",
        "frequenza_6 = 19.86\n",
        "frequenza_7 = 21.12\n",
        "frequenza_8 = 22.23\n",
        "frequenza_9 = 23.85\n",
        "frequenza_10 = 24.74\n",
        "\n",
        "frequenze = [frequenza_1, frequenza_2, frequenza_3, frequenza_4, frequenza_5, frequenza_6, frequenza_7, frequenza_8, frequenza_9, frequenza_10]\n",
        "masse = [massa_1, massa_2, massa_3, massa_4, massa_5, massa_6, massa_7, massa_8, massa_9, massa_10]\n",
        "\n",
        "frequenze_err = [0.10] * len(frequenze)\n",
        "masse_err = [0.0001] * len(masse)\n",
        "\n",
        "print(frequenze, len(masse), len(frequenze_err), len(masse_err))\n",
        "print(masse)"
      ],
      "execution_count": 133,
      "outputs": [
        {
          "output_type": "stream",
          "text": [
            "[12.1, 14.12, 16.3, 17.28, 18.57, 19.86, 21.12, 22.23, 23.85, 24.74] 10 10 10\n",
            "[148.9, 198.2, 249.10000000000002, 298.8, 348.3, 397.6, 448.90000000000003, 498.20000000000005, 548.1, 597.4]\n"
          ],
          "name": "stdout"
        }
      ]
    },
    {
      "cell_type": "markdown",
      "metadata": {
        "id": "OCw95KqT1dSJ"
      },
      "source": [
        "### Plot Dei Dati"
      ]
    },
    {
      "cell_type": "code",
      "metadata": {
        "colab": {
          "base_uri": "https://localhost:8080/",
          "height": 354
        },
        "id": "Jb39BVmNzsks",
        "outputId": "bbb9de71-3240-4746-a4e1-ac42fc98b817"
      },
      "source": [
        "tensioni = [masse[index] * 9.805 * (10**(-3)) for index in range(len(masse))]\n",
        "w = [2 * np.pi * frequenze[i] for i in range(len(frequenze))]\n",
        "print(w)\n",
        "k = [(1) * np.pi / lunghezza_filo_oscillante for i in range(len(frequenze))]\n",
        "print(k)\n",
        "prop = [((w[index] / k[index])) ** 2 for index in range(len(w))]\n",
        "\n",
        "print(prop)\n",
        "print(tensioni)\n",
        "\n",
        "x = np.array(prop)\n",
        "y = np.array(tensioni)\n",
        "#x_err = np.array(k_err)\n",
        "#y_err = np.array(w_err)\n",
        "\n",
        "plt.figure()\n",
        "plt.grid()\n",
        "_ = plt.scatter(x, y)"
      ],
      "execution_count": 124,
      "outputs": [
        {
          "output_type": "stream",
          "text": [
            "[76.026542216873, 88.71857653737575, 102.41592050702727, 108.57344210806326, 116.67875115432491, 124.78406020058658, 132.70087368763288, 139.6752093786022, 149.85396957623314, 155.44600449962294]\n",
            "[3.5699916518065833, 3.5699916518065833, 3.5699916518065833, 3.5699916518065833, 3.5699916518065833, 3.5699916518065833, 3.5699916518065833, 3.5699916518065833, 3.5699916518065833, 3.5699916518065833]\n",
            "[453.519616, 617.58214144, 823.0013440000001, 924.9384038400001, 1068.19156224, 1221.7541529599996, 1381.6981094400005, 1530.74997504, 1761.9845759999998, 1895.9405977599995]\n",
            "[1.4599645, 1.9433509999999998, 2.4424255, 2.929734, 3.4150815000000003, 3.8984680000000003, 4.4014645, 4.884851, 5.3741205, 5.857507]\n"
          ],
          "name": "stdout"
        },
        {
          "output_type": "display_data",
          "data": {
            "image/png": "[encoded data removed]",
            "text/plain": [
              "<Figure size 432x288 with 1 Axes>"
            ]
          },
          "metadata": {
            "tags": [],
            "needs_background": "light"
          }
        }
      ]
    },
    {
      "cell_type": "markdown",
      "metadata": {
        "id": "zUV3N5xY4CFS"
      },
      "source": [
        "### Fit Dei Dati"
      ]
    },
    {
      "cell_type": "code",
      "metadata": {
        "id": "FpG-SnC74EfA"
      },
      "source": [
        "#Definizione funzione di fit \n",
        "def retta(x,A,B): \n",
        "  return A*x+B"
      ],
      "execution_count": 125,
      "outputs": []
    },
    {
      "cell_type": "code",
      "metadata": {
        "id": "kfGjNF-d4NiR"
      },
      "source": [
        "# Fitting routine\n",
        "# esegue il fit dei dati a partire da una stima dei dati iniziali\n",
        "#\n",
        " \n",
        "def fitplot(A, B, print_output=True):\n",
        " \n",
        "  guess = np.array([A,B]) #array of initial guesses\n",
        "  bounds = ([-np.inf,-np.inf], [np.inf,np.inf]) \n",
        "\n",
        "  plt.figure(figsize=(9, 6))\n",
        " \n",
        "  popt, pcov = curve_fit(retta, x, y)\n",
        "\n",
        "                                                                                                \n",
        "  #plotting fit result\n",
        "  # plt.errorbar(x, y, xerr=x_err, yerr = y_err, capsize=5)\n",
        "  plt.scatter(x,y, s=25, c = \"c\", label=\"Exp.\")     #plot data points without errorbars\n",
        "  plt.plot(x,retta(x,popt[0],popt[1]),color= \"m\" ,label=\"Fit\",linewidth=1)\n",
        "  plt.xlabel(\"\")\n",
        "  plt.ylabel(\"\")\n",
        "  plt.grid(which='both')\n",
        "  plt.legend()\n",
        "  plt.show()\n",
        "  \n",
        "  \n",
        "  \n",
        "  if print_output:\n",
        "    label = [\"A\", \"B\"]\n",
        "    for l, v, e in zip(label, popt, np.sqrt(np.diag(pcov))) :\n",
        "      print(\"%10s = %9.6f +- %7.6f\" % (l ,v, e))\n",
        "    print(\"\\n\")\n",
        " "
      ],
      "execution_count": 126,
      "outputs": []
    },
    {
      "cell_type": "code",
      "metadata": {
        "colab": {
          "base_uri": "https://localhost:8080/",
          "height": 442
        },
        "id": "UhAwxlpb4UKB",
        "outputId": "ebd852a7-3a40-4dce-a191-08334117b7a3"
      },
      "source": [
        "fitplot(1, 1)"
      ],
      "execution_count": 127,
      "outputs": [
        {
          "output_type": "display_data",
          "data": {
            "image/png": "[encoded data removed]",
            "text/plain": [
              "<Figure size 648x432 with 1 Axes>"
            ]
          },
          "metadata": {
            "tags": [],
            "needs_background": "light"
          }
        },
        {
          "output_type": "stream",
          "text": [
            "         A =  0.003087 +- 0.000064\n",
            "         B =  0.055581 +- 0.080255\n",
            "\n",
            "\n"
          ],
          "name": "stdout"
        }
      ]
    },
    {
      "cell_type": "code",
      "metadata": {
        "colab": {
          "base_uri": "https://localhost:8080/"
        },
        "id": "VDObDNYdASDI",
        "outputId": "d68244ca-32de-4f56-b33a-d069f9cf1d68"
      },
      "source": [
        "0.0046 *1.87"
      ],
      "execution_count": 132,
      "outputs": [
        {
          "output_type": "execute_result",
          "data": {
            "text/plain": [
              "0.008602"
            ]
          },
          "metadata": {
            "tags": []
          },
          "execution_count": 132
        }
      ]
    },
    {
      "cell_type": "markdown",
      "metadata": {
        "id": "tTPS0d0yIaQd"
      },
      "source": [
        "## Fit Gnegne"
      ]
    },
    {
      "cell_type": "markdown",
      "metadata": {
        "id": "1KzbquTDIeqj"
      },
      "source": [
        "### Importo I Dati"
      ]
    },
    {
      "cell_type": "code",
      "metadata": {
        "id": "qcwB3v_GAV7g"
      },
      "source": [
        "massa = 0.6509\n",
        "lunghezza_filo = 92.5\n",
        "diametro = 1.98 # +- 0.02 mm\n",
        "frequenze = [9.8, 25, 47.5, 79, 120.6, 165, 221.3, 342]\n",
        "k = [(i + 1) * np.pi / lunghezza_filo for i in range(len(frequenze))]"
      ],
      "execution_count": 135,
      "outputs": []
    },
    {
      "cell_type": "markdown",
      "metadata": {
        "id": "SkzTaWH_JBeN"
      },
      "source": [
        "### Faccio Il Plot Dei Dati"
      ]
    },
    {
      "cell_type": "code",
      "metadata": {
        "colab": {
          "base_uri": "https://localhost:8080/",
          "height": 265
        },
        "id": "99ooxoqhJD4c",
        "outputId": "31d3bc80-2f82-4396-c5c1-fa77d5966710"
      },
      "source": [
        "x = k[:-1]\n",
        "y = frequenze[:-1]\n",
        "\n",
        "plt.figure()\n",
        "plt.grid()\n",
        "_ = plt.scatter(x, y)"
      ],
      "execution_count": 137,
      "outputs": [
        {
          "output_type": "display_data",
          "data": {
            "image/png": "[encoded data removed]",
            "text/plain": [
              "<Figure size 432x288 with 1 Axes>"
            ]
          },
          "metadata": {
            "tags": [],
            "needs_background": "light"
          }
        }
      ]
    },
    {
      "cell_type": "markdown",
      "metadata": {
        "id": "k44eRaLPJf99"
      },
      "source": [
        "### Faccio Il Fit Dei Dati"
      ]
    },
    {
      "cell_type": "code",
      "metadata": {
        "id": "IH-xrkuYJK8e"
      },
      "source": [
        "def funza()"
      ],
      "execution_count": null,
      "outputs": []
    }
  ]
}