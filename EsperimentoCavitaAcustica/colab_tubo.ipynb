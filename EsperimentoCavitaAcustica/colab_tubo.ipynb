{
  "nbformat": 4,
  "nbformat_minor": 0,
  "metadata": {
    "colab": {
      "name": "colab_tubo.ipynb",
      "provenance": []
    },
    "kernelspec": {
      "name": "python3",
      "display_name": "Python 3"
    },
    "language_info": {
      "name": "python"
    }
  },
  "cells": [
    {
      "cell_type": "markdown",
      "metadata": {
        "id": "FhW1tDlGoOa0"
      },
      "source": [
        "# Esperimento Tubo "
      ]
    },
    {
      "cell_type": "markdown",
      "metadata": {
        "id": "EUlMuuGGsGYB"
      },
      "source": [
        "## Importo Le Librerie"
      ]
    },
    {
      "cell_type": "code",
      "metadata": {
        "id": "VpcXkOTZsFvw"
      },
      "source": [
        "import numpy as np\n",
        "from matplotlib import pyplot as plt\n",
        "from scipy.optimize import curve_fit\n",
        "from scipy.stats import chisquare\n",
        "from ipywidgets import interact, interact_manual, FloatSlider, Checkbox\n",
        "from pprint import pprint"
      ],
      "execution_count": 33,
      "outputs": []
    },
    {
      "cell_type": "markdown",
      "metadata": {
        "id": "tZp5FrRD72ht"
      },
      "source": [
        "##Fit Lineare"
      ]
    },
    {
      "cell_type": "markdown",
      "metadata": {
        "id": "4BtSvCR0oS7E"
      },
      "source": [
        "### Importo I Dati"
      ]
    },
    {
      "cell_type": "code",
      "metadata": {
        "id": "53Yy61NDdRVk"
      },
      "source": [
        "modo =          [1, 2, 3, 4, 5, 6, 7, 8, 9]\n",
        "lunghezza_tubo = 0.9894 + 0.058 # m\n",
        "lunghezza_tubo_err = 0.0005 # m\n",
        "massimo =       [162, 64, 20, 19.60, 26.80, 28.80, 10.84, 11.28, 7.619] # mV\n",
        "peak_to_peak =  [324, 136, 40.40, 39.20, 53.60, 57.20, 22.13, 23.22, 15.55] # mV\n",
        "frequenza =     [165, 330, 495, 660, 825, 990, 1155, 1320, 1485] # Hz\n",
        "frequenza_err = [0.3] * 9 # Hz\n",
        "periodo =       [6.064, 3.024, 2.014, 1.512, 1.211, 1.006, 0.8659, 0.7551, 0.6719] # ms"
      ],
      "execution_count": 67,
      "outputs": []
    },
    {
      "cell_type": "markdown",
      "metadata": {
        "id": "XHOUGCSPrn4h"
      },
      "source": [
        "### carico i dati su un file"
      ]
    },
    {
      "cell_type": "code",
      "metadata": {
        "id": "_LlEUvjuoV-b"
      },
      "source": [
        "with open(\"dati_armoniche.txt\", \"a\") as f:\n",
        "  row = \"\"\n",
        "  for index in range(len(modo)):\n",
        "    # modo + frequenza + ampiezza + periodo\n",
        "    row += str(modo[index]) + \"\\t\" + str(round(frequenza[index], 6)) + \"\\t\" + str(round(peak_to_peak[index] * (10**(-3)), 6)) + \"\\t\" + str(round(periodo[index] * (10 ** (-3)), 6)) + \"\\n\"\n",
        "  f.write(row)"
      ],
      "execution_count": 14,
      "outputs": []
    },
    {
      "cell_type": "code",
      "metadata": {
        "colab": {
          "base_uri": "https://localhost:8080/"
        },
        "id": "F6y7-addviZS",
        "outputId": "815438d6-83e0-4df7-f994-bacc869c5d46"
      },
      "source": [
        "k = []\n",
        "k_err = []\n",
        "w = []\n",
        "w_err = []\n",
        "\n",
        "for index in range(len(modo)):\n",
        "  current_k = (modo[index] * np.pi) / lunghezza_tubo\n",
        "  current_k_err = (lunghezza_tubo_err / lunghezza_tubo) * current_k\n",
        "  k.append(current_k)\n",
        "  k_err.append(current_k_err)\n",
        "\n",
        "for index in range(len(modo)):\n",
        "  current_w = (2 * np.pi) * frequenza[index]\n",
        "  current_w_err = (0.3 / frequenza[index]) * current_w\n",
        "  w.append(current_w)\n",
        "  w_err.append(current_w_err)\n",
        "  # print(f\"frequenza: {frequenza[index]}\\n w: {current_w} \\n {current_w_err}\")\n",
        "\n",
        "pprint(k)\n",
        "pprint(w)\n"
      ],
      "execution_count": 81,
      "outputs": [
        {
          "output_type": "stream",
          "text": [
            "[2.9994201390011392,\n",
            " 5.9988402780022785,\n",
            " 8.998260417003419,\n",
            " 11.997680556004557,\n",
            " 14.997100695005697,\n",
            " 17.996520834006837,\n",
            " 20.995940973007976,\n",
            " 23.995361112009114,\n",
            " 26.994781251010256]\n",
            "[1036.7255756846316,\n",
            " 2073.4511513692632,\n",
            " 3110.1767270538953,\n",
            " 4146.9023027385265,\n",
            " 5183.627878423159,\n",
            " 6220.353454107791,\n",
            " 7257.079029792422,\n",
            " 8293.804605477053,\n",
            " 9330.530181161686]\n"
          ],
          "name": "stdout"
        }
      ]
    },
    {
      "cell_type": "markdown",
      "metadata": {
        "id": "4HzOqDwOr7SD"
      },
      "source": [
        "### Plot Dei Dati"
      ]
    },
    {
      "cell_type": "code",
      "metadata": {
        "colab": {
          "base_uri": "https://localhost:8080/",
          "height": 295
        },
        "id": "dpeZEfN2sCfY",
        "outputId": "5f03cd9d-641c-4db0-831d-e0b489f50f68"
      },
      "source": [
        "y=np.array(w)\n",
        "x=np.array(k)\n",
        "y_err = np.array(w_err)\n",
        "x_err = np.array(k_err)\n",
        "\n",
        "plt.figure()\n",
        "plt.title(\"Dati sperimentali\")\n",
        "plt.xlabel(\"k\")\n",
        "plt.ylabel(\"w\")\n",
        "plt.grid()\n",
        "_=plt.scatter(x,y)"
      ],
      "execution_count": 69,
      "outputs": [
        {
          "output_type": "display_data",
          "data": {
            "image/png": "[encoded data removed]",
            "text/plain": [
              "<Figure size 432x288 with 1 Axes>"
            ]
          },
          "metadata": {
            "tags": [],
            "needs_background": "light"
          }
        }
      ]
    },
    {
      "cell_type": "markdown",
      "metadata": {
        "id": "m0cK6Cl0ypr2"
      },
      "source": [
        "### Fit Dei Dati"
      ]
    },
    {
      "cell_type": "code",
      "metadata": {
        "id": "5BTyT391yrUN"
      },
      "source": [
        "#Definizione funzione di fit \n",
        "def retta(x,A,B): \n",
        "  return A*x+B"
      ],
      "execution_count": 70,
      "outputs": []
    },
    {
      "cell_type": "code",
      "metadata": {
        "id": "mi1lqe-Syvvd"
      },
      "source": [
        "# Fitting routine\n",
        "# esegue il fit dei dati a partire da una stima dei dati iniziali\n",
        "#\n",
        " \n",
        "def fitplot(A, B, print_output=True):\n",
        " \n",
        "  guess = np.array([A,B]) #array of initial guesses\n",
        "  bounds = ([-np.inf,-np.inf], [np.inf,np.inf]) \n",
        "\n",
        "  plt.figure(figsize=(9, 6))\n",
        " \n",
        "  popt, pcov = curve_fit(retta, x, y, p0=guess, bounds=bounds)\n",
        "\n",
        "                                                                                                \n",
        "  #plotting fit result\n",
        "  plt.errorbar(x, y, xerr=x_err, yerr=y_err)\n",
        "  plt.scatter(x,y, s=25, c = \"c\", label=\"Exp.\")     #plot data points without errorbars\n",
        "  plt.plot(x,retta(x,popt[0],popt[1]),color= \"m\" ,label=\"Fit\",linewidth=1)\n",
        "  plt.xlabel(\"K\")\n",
        "  plt.ylabel(\"w\")\n",
        "  plt.grid(which='both')\n",
        "  plt.legend()\n",
        "  plt.show()\n",
        "  \n",
        "  \n",
        "  \n",
        "  if print_output:\n",
        "    label = [\"velocità suono\", \"intercetta\"]\n",
        "    for l, v, e in zip(label, popt, np.sqrt(np.diag(pcov))) :\n",
        "      print(\"%10s = %9.6f +- %7.6f\" % (l ,v, e))\n",
        "    print(\"\\n\")  "
      ],
      "execution_count": 71,
      "outputs": []
    },
    {
      "cell_type": "code",
      "metadata": {
        "colab": {
          "base_uri": "https://localhost:8080/",
          "height": 456
        },
        "id": "rFDKAr43y3bt",
        "outputId": "b296f9d1-8e0b-4e81-ae72-9441c225296c"
      },
      "source": [
        "#fitplot(A, B, print_output=True, plot_guess=False):\n",
        "fitplot(0,0)"
      ],
      "execution_count": 72,
      "outputs": [
        {
          "output_type": "display_data",
          "data": {
            "image/png": "[encoded data removed]",
            "text/plain": [
              "<Figure size 648x432 with 1 Axes>"
            ]
          },
          "metadata": {
            "tags": [],
            "needs_background": "light"
          }
        },
        {
          "output_type": "stream",
          "text": [
            "         A = 345.641999 +- 0.000000\n",
            "         B =  0.000016 +- 0.000002\n",
            "\n",
            "\n"
          ],
          "name": "stdout"
        }
      ]
    },
    {
      "cell_type": "code",
      "metadata": {
        "colab": {
          "base_uri": "https://localhost:8080/"
        },
        "id": "_-ZO_qqX6MGn",
        "outputId": "74ba2157-110f-4b39-8ee3-5eaacfddea53"
      },
      "source": [
        "# errore suono\n",
        "(0.0014318408148754724/2.9994201390011392) + (1.8849555921538756/1036.7255756846316)* 345.68"
      ],
      "execution_count": 82,
      "outputs": [
        {
          "output_type": "execute_result",
          "data": {
            "text/plain": [
              "0.6289864634506224"
            ]
          },
          "metadata": {
            "tags": []
          },
          "execution_count": 82
        }
      ]
    },
    {
      "cell_type": "markdown",
      "metadata": {
        "id": "3FLZ3gkv7tVW"
      },
      "source": [
        "## Fit gne"
      ]
    },
    {
      "cell_type": "markdown",
      "metadata": {
        "id": "bKMjK-sQ8HlG"
      },
      "source": [
        "### Importo I Dati"
      ]
    },
    {
      "cell_type": "code",
      "metadata": {
        "id": "xLUPellC7-YU"
      },
      "source": [
        "modo = [1, 2, 3]\n",
        "\n",
        "frequenza = {\n",
        "    \"modo-1\": \n",
        "    [\n",
        "            1,\n",
        "            5,\n",
        "            10,\n",
        "            15,\n",
        "            20,\n",
        "            25,\n",
        "            35,\n",
        "            45,\n",
        "            60,\n",
        "            55,\n",
        "            60,\n",
        "            70,\n",
        "            80,\n",
        "            100,\n",
        "            110,\n",
        "            115,\n",
        "            120,\n",
        "            130, \n",
        "            135,\n",
        "            140,\n",
        "            145,\n",
        "            147,\n",
        "            150,\n",
        "            152.5,\n",
        "            156,\n",
        "            157,\n",
        "            158,\n",
        "            159,\n",
        "            160,\n",
        "            161,\n",
        "            162,\n",
        "            163,\n",
        "            163.5,\n",
        "            164,\n",
        "            164.5,\n",
        "            165,\n",
        "            165.5,\n",
        "            166,\n",
        "            166.5,\n",
        "            167,\n",
        "            168,\n",
        "            169,\n",
        "            170,\n",
        "            171,\n",
        "            172,\n",
        "            173,\n",
        "            174,\n",
        "            175,\n",
        "            176,\n",
        "            177,\n",
        "            178,\n",
        "            179, \n",
        "            180,\n",
        "            185,\n",
        "            190,\n",
        "            195, \n",
        "            200,                                      \n",
        "]}\n",
        "\n",
        "ampiezza = {\n",
        "    \"modo-1\": [\n",
        "               4,\n",
        "               4,\n",
        "               4,\n",
        "               4,\n",
        "               4,\n",
        "               8,\n",
        "               12,\n",
        "               24,\n",
        "               28,\n",
        "               36,\n",
        "               40,\n",
        "               48,\n",
        "               52,\n",
        "               56,\n",
        "               60,\n",
        "               64,\n",
        "               80,\n",
        "               84,\n",
        "               96,\n",
        "               104,\n",
        "               116,\n",
        "               124,\n",
        "               140,\n",
        "               156,\n",
        "               180,\n",
        "               192,\n",
        "               204,\n",
        "               212,\n",
        "               228,\n",
        "               240,\n",
        "               260,\n",
        "               276,\n",
        "               284,\n",
        "               296,\n",
        "               308,\n",
        "               316,\n",
        "               332,\n",
        "               344,\n",
        "               360,\n",
        "               376,\n",
        "               408,\n",
        "               448,\n",
        "               484,\n",
        "               520,\n",
        "               556,\n",
        "               576,\n",
        "               572,\n",
        "               504,\n",
        "               500,\n",
        "               468,\n",
        "               444,\n",
        "               424,\n",
        "               362,\n",
        "               280,\n",
        "               208,\n",
        "               160,\n",
        "               128\n",
        "    ]\n",
        "}"
      ],
      "execution_count": 84,
      "outputs": []
    },
    {
      "cell_type": "markdown",
      "metadata": {
        "id": "7s_Bzw21GCeR"
      },
      "source": [
        "### Carico Dati"
      ]
    },
    {
      "cell_type": "code",
      "metadata": {
        "id": "4FELnuJ2ECmK"
      },
      "source": [
        "with open(\"dati_ampiezza_modo_1.txt\", \"w\") as f:\n",
        "  row = \"\"\n",
        "  for index in range(len(frequenza[\"modo-1\"])):\n",
        "    row += str(frequenza[\"modo-1\"][index]) + \"\\t\" + str(round(ampiezza[\"modo-1\"][index] * (10**(-3)), 4  )) + \"\\n\"\n",
        "  f.write(row)\n",
        "\n",
        "# print(len(frequenza[\"modo-1\"]))"
      ],
      "execution_count": 92,
      "outputs": []
    },
    {
      "cell_type": "markdown",
      "metadata": {
        "id": "Vr9rsaCWGJRu"
      },
      "source": [
        "### Plot Dei Dati"
      ]
    },
    {
      "cell_type": "code",
      "metadata": {
        "colab": {
          "base_uri": "https://localhost:8080/",
          "height": 295
        },
        "id": "ENbUSt46GeIv",
        "outputId": "af105945-180d-4f42-a57c-cd8d2e224e7c"
      },
      "source": [
        "x=np.array(frequenza[\"modo-1\"][20:])\n",
        "y=np.array(ampiezza[\"modo-1\"][20:])\n",
        "#y_err = np.array(w_err)\n",
        "#x_err = np.array(k_err)\n",
        "\n",
        "plt.figure()\n",
        "plt.title(\"Dati sperimentali\")\n",
        "plt.xlabel(\"k\")\n",
        "plt.ylabel(\"w\")\n",
        "plt.grid()\n",
        "_=plt.scatter(x,y)"
      ],
      "execution_count": 98,
      "outputs": [
        {
          "output_type": "display_data",
          "data": {
            "image/png": "[encoded data removed]",
            "text/plain": [
              "<Figure size 432x288 with 1 Axes>"
            ]
          },
          "metadata": {
            "tags": [],
            "needs_background": "light"
          }
        }
      ]
    },
    {
      "cell_type": "code",
      "metadata": {
        "id": "ZFPZvDrTGxLX"
      },
      "source": [
        ""
      ],
      "execution_count": null,
      "outputs": []
    }
  ]
}