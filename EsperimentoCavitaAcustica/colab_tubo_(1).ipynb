{
  "nbformat": 4,
  "nbformat_minor": 0,
  "metadata": {
    "colab": {
      "name": "colab_tubo (1).ipynb",
      "provenance": [],
      "collapsed_sections": [
        "tZp5FrRD72ht",
        "4BtSvCR0oS7E",
        "XHOUGCSPrn4h",
        "4HzOqDwOr7SD",
        "m0cK6Cl0ypr2",
        "3FLZ3gkv7tVW",
        "bKMjK-sQ8HlG",
        "7s_Bzw21GCeR",
        "Vr9rsaCWGJRu",
        "3M0IYXZ4I_fY"
      ],
      "toc_visible": true
    },
    "kernelspec": {
      "name": "python3",
      "display_name": "Python 3"
    },
    "language_info": {
      "name": "python"
    }
  },
  "cells": [
    {
      "cell_type": "markdown",
      "metadata": {
        "id": "FhW1tDlGoOa0"
      },
      "source": [
        "# Esperimento Tubo "
      ]
    },
    {
      "cell_type": "markdown",
      "metadata": {
        "id": "EUlMuuGGsGYB"
      },
      "source": [
        "## Importo Le Librerie"
      ]
    },
    {
      "cell_type": "code",
      "metadata": {
        "id": "VpcXkOTZsFvw"
      },
      "source": [
        "import numpy as np  \n",
        "from matplotlib import pyplot as plt \n",
        "from scipy.optimize import curve_fit \n",
        "from scipy import odr\n",
        "from ipywidgets import interact, interact_manual, FloatSlider, Checkbox, BoundedFloatText\n",
        "from google.colab import files"
      ],
      "execution_count": 1,
      "outputs": []
    },
    {
      "cell_type": "markdown",
      "metadata": {
        "id": "tZp5FrRD72ht"
      },
      "source": [
        "##Fit Lineare"
      ]
    },
    {
      "cell_type": "markdown",
      "metadata": {
        "id": "4BtSvCR0oS7E"
      },
      "source": [
        "### Importo I Dati"
      ]
    },
    {
      "cell_type": "markdown",
      "metadata": {
        "id": "-0wHL_cXmAxp"
      },
      "source": [
        "#### Prima Misurazione"
      ]
    },
    {
      "cell_type": "code",
      "metadata": {
        "id": "53Yy61NDdRVk"
      },
      "source": [
        "modo =          [1, 2, 3, 4, 5, 6, 7, 8, 9]\n",
        "lunghezza_tubo = 0.9894 + 0.058 # m\n",
        "lunghezza_tubo_err = 0.0005 # m\n",
        "massimo =       [162, 64, 20, 19.60, 26.80, 28.80, 10.84, 11.28, 7.619] # mV\n",
        "peak_to_peak =  [324, 136, 40.40, 39.20, 53.60, 57.20, 22.13, 23.22, 15.55] # mV\n",
        "frequenza =     [165, 330, 495, 660, 825, 990, 1155, 1320, 1485] # Hz\n",
        "frequenza_err = [0.3] * 9 # Hz\n",
        "periodo =       [6.064, 3.024, 2.014, 1.512, 1.211, 1.006, 0.8659, 0.7551, 0.6719] # ms"
      ],
      "execution_count": null,
      "outputs": []
    },
    {
      "cell_type": "markdown",
      "metadata": {
        "id": "kJbTD4f-l9qR"
      },
      "source": [
        "#### Seconda Misurazione"
      ]
    },
    {
      "cell_type": "code",
      "metadata": {
        "id": "1KGSkfM9mAOT"
      },
      "source": [
        "modo =          [1, 2, 3, 4, 5, 6, 7, 8]#  5, 6, 7, 8, 9]\n",
        "lunghezza_tubo = 0.98 # m\n",
        "lunghezza_tubo_err = 0.0005 # m\n",
        "\n",
        "amplitude = [0, 0, 0, 0, 0, 0, 206, 106]\n",
        "\n",
        "peak_to_peak =  [299, 440, 320, 533, 739, 310, 218, 114] # mV\n",
        "massimo =       [p / 2 for p in peak_to_peak] # mV\n",
        "peak_to_peak_err = [5, 5, 11, 6, 5, 4, 8, 2]\n",
        "frequenza =     [176.8, 353.6, 528.8, 704.6, 880.4, 1057.6, 1232.9, 1410.7] # Hz\n",
        "frequenza_err = [0.3, 0.2, 0.4, 0.6, 0.3, 0.3, 0.4, 0.5]  # Hz\n",
        "periodo =       [5.7, 2.83, 1.9, 1.42, 1.134, 0.946, 0.812, 0.709] # ms"
      ],
      "execution_count": null,
      "outputs": []
    },
    {
      "cell_type": "markdown",
      "metadata": {
        "id": "XHOUGCSPrn4h"
      },
      "source": [
        "### carico i dati su un file"
      ]
    },
    {
      "cell_type": "code",
      "metadata": {
        "id": "_LlEUvjuoV-b"
      },
      "source": [
        "with open(\"dati_armoniche.txt\", \"a\") as f:\n",
        "  row = \"\"\n",
        "  for index in range(len(modo)):\n",
        "    # modo + frequenza + ampiezza + periodo\n",
        "    row += str(modo[index]) + \"\\t\" + str(round(frequenza[index], 6)) + \"\\t\" + str(round(peak_to_peak[index] * (10**(-3)), 6)) + \"\\t\" + str(round(periodo[index] * (10 ** (-3)), 6)) + \"\\n\"\n",
        "  f.write(row)"
      ],
      "execution_count": null,
      "outputs": []
    },
    {
      "cell_type": "code",
      "metadata": {
        "colab": {
          "base_uri": "https://localhost:8080/"
        },
        "id": "F6y7-addviZS",
        "outputId": "682e3e95-8037-48c3-bdef-7866e5b893b7"
      },
      "source": [
        "k = []\n",
        "k_err = []\n",
        "w = []\n",
        "w_err = []\n",
        "\n",
        "for index in range(len(modo)):\n",
        "  current_k = (modo[index] * np.pi) / lunghezza_tubo\n",
        "  current_k_err = (lunghezza_tubo_err / lunghezza_tubo) * current_k\n",
        "  k.append(current_k)\n",
        "  k_err.append(current_k_err)\n",
        "\n",
        "for index in range(len(modo)):\n",
        "  current_w = (2 * np.pi) * frequenza[index]\n",
        "  current_w_err = (0.3 / frequenza[index]) * current_w\n",
        "  w.append(current_w)\n",
        "  w_err.append(current_w_err)\n",
        "  # print(f\"frequenza: {frequenza[index]}\\n w: {current_w} \\n {current_w_err}\")\n",
        "\n",
        "pprint(k)\n",
        "pprint(w)\n"
      ],
      "execution_count": null,
      "outputs": [
        {
          "output_type": "stream",
          "text": [
            "[3.20570678937734,\n",
            " 6.41141357875468,\n",
            " 9.61712036813202,\n",
            " 12.82282715750936,\n",
            " 16.0285339468867,\n",
            " 19.23424073626404,\n",
            " 22.43994752564138,\n",
            " 25.64565431501872]\n",
            "[1110.867162309351,\n",
            " 2221.734324618702,\n",
            " 3322.548390436565,\n",
            " 4427.132367438737,\n",
            " 5531.716344440908,\n",
            " 6645.09678087313,\n",
            " 7746.539165221712,\n",
            " 8863.689512838242]\n"
          ],
          "name": "stdout"
        }
      ]
    },
    {
      "cell_type": "markdown",
      "metadata": {
        "id": "4HzOqDwOr7SD"
      },
      "source": [
        "### Plot Dei Dati"
      ]
    },
    {
      "cell_type": "code",
      "metadata": {
        "colab": {
          "base_uri": "https://localhost:8080/",
          "height": 295
        },
        "id": "dpeZEfN2sCfY",
        "outputId": "94a1ada4-b268-4c4b-bd89-6adbe27bae99"
      },
      "source": [
        "y=np.array(w)\n",
        "x=np.array(k)\n",
        "y_err = np.array(w_err)\n",
        "x_err = np.array(k_err)\n",
        "\n",
        "plt.figure()\n",
        "plt.title(\"Dati sperimentali\")\n",
        "plt.xlabel(\"k\")\n",
        "plt.ylabel(\"w\")\n",
        "plt.grid()\n",
        "_=plt.scatter(x,y)"
      ],
      "execution_count": null,
      "outputs": [
        {
          "output_type": "display_data",
          "data": {
            "image/png": "[encoded data removed]",
            "text/plain": [
              "<Figure size 432x288 with 1 Axes>"
            ]
          },
          "metadata": {
            "tags": [],
            "needs_background": "light"
          }
        }
      ]
    },
    {
      "cell_type": "markdown",
      "metadata": {
        "id": "m0cK6Cl0ypr2"
      },
      "source": [
        "### Fit Dei Dati"
      ]
    },
    {
      "cell_type": "code",
      "metadata": {
        "id": "5BTyT391yrUN"
      },
      "source": [
        "#Definizione funzione di fit \n",
        "def retta(x,A,B): \n",
        "  return A*x+B"
      ],
      "execution_count": null,
      "outputs": []
    },
    {
      "cell_type": "code",
      "metadata": {
        "id": "mi1lqe-Syvvd"
      },
      "source": [
        "# Fitting routine\n",
        "# esegue il fit dei dati a partire da una stima dei dati iniziali\n",
        "#\n",
        " \n",
        "def fitplot(A, B, print_output=True):\n",
        " \n",
        "  guess = np.array([A,B]) #array of initial guesses\n",
        "  bounds = ([-np.inf,-np.inf], [np.inf,np.inf]) \n",
        "\n",
        "  plt.figure(figsize=(9, 6))\n",
        " \n",
        "  popt, pcov = curve_fit(retta, x, y, p0=guess, bounds=bounds)\n",
        "\n",
        "                                                                                                \n",
        "  #plotting fit result\n",
        "  plt.errorbar(x, y, xerr=x_err, yerr=y_err)\n",
        "  plt.scatter(x,y, s=25, c = \"c\", label=\"Exp.\")     #plot data points without errorbars\n",
        "  plt.plot(x,retta(x,popt[0],popt[1]),color= \"m\" ,label=\"Fit\",linewidth=1)\n",
        "  plt.xlabel(\"K\")\n",
        "  plt.ylabel(\"w\")\n",
        "  plt.grid(which='both')\n",
        "  plt.legend()\n",
        "  plt.show()\n",
        "  \n",
        "  \n",
        "  \n",
        "  if print_output:\n",
        "    label = [\"velocità suono\", \"intercetta\"]\n",
        "    for l, v, e in zip(label, popt, np.sqrt(np.diag(pcov))) :\n",
        "      print(\"%10s = %9.6f +- %7.6f\" % (l ,v, e))\n",
        "    print(\"\\n\")  "
      ],
      "execution_count": null,
      "outputs": []
    },
    {
      "cell_type": "code",
      "metadata": {
        "colab": {
          "base_uri": "https://localhost:8080/",
          "height": 456
        },
        "id": "rFDKAr43y3bt",
        "outputId": "81a58b55-3e47-4bec-f752-7e9fceba9332"
      },
      "source": [
        "#fitplot(A, B, print_output=True, plot_guess=False):\n",
        "fitplot(300,0)"
      ],
      "execution_count": null,
      "outputs": [
        {
          "output_type": "display_data",
          "data": {
            "image/png": "[encoded data removed]",
            "text/plain": [
              "<Figure size 648x432 with 1 Axes>"
            ]
          },
          "metadata": {
            "tags": [],
            "needs_background": "light"
          }
        },
        {
          "output_type": "stream",
          "text": [
            "velocità suono = 345.240000 +- 0.218013\n",
            "intercetta =  3.343552 +- 3.529189\n",
            "\n",
            "\n"
          ],
          "name": "stdout"
        }
      ]
    },
    {
      "cell_type": "code",
      "metadata": {
        "colab": {
          "base_uri": "https://localhost:8080/"
        },
        "id": "_-ZO_qqX6MGn",
        "outputId": "fae5a61f-4cf3-454a-cbb2-f689bb825f33"
      },
      "source": [
        "# errore suono\n",
        "(0.0014318408148754724/2.9994201390011392) + (1.8849555921538756/1036.7255756846316)* 345.68"
      ],
      "execution_count": null,
      "outputs": [
        {
          "output_type": "execute_result",
          "data": {
            "text/plain": [
              "0.6289864634506224"
            ]
          },
          "metadata": {
            "tags": []
          },
          "execution_count": 52
        }
      ]
    },
    {
      "cell_type": "markdown",
      "metadata": {
        "id": "3FLZ3gkv7tVW"
      },
      "source": [
        "## Fit Gaussiana"
      ]
    },
    {
      "cell_type": "markdown",
      "metadata": {
        "id": "bKMjK-sQ8HlG"
      },
      "source": [
        "### Importo I Dati"
      ]
    },
    {
      "cell_type": "code",
      "metadata": {
        "id": "xLUPellC7-YU"
      },
      "source": [
        "temperatura = 23.4 # gradi centigradi\n",
        "\n",
        "frequenza = {\n",
        "    \"modo-1\": [\n",
        "               100,\n",
        "               110,\n",
        "               120,\n",
        "               130,\n",
        "               140,\n",
        "               150,\n",
        "               155,\n",
        "               160,\n",
        "               165,\n",
        "               167,\n",
        "               169,\n",
        "               171,\n",
        "               173,\n",
        "               175,\n",
        "               176,\n",
        "               177,\n",
        "               178,\n",
        "               179,\n",
        "               180,\n",
        "               182,\n",
        "               184,\n",
        "               186,\n",
        "               188,\n",
        "               190,\n",
        "               192,\n",
        "               194,\n",
        "               199,\n",
        "               204,\n",
        "               214,      \n",
        "               234,\n",
        "               254,\n",
        "    ],\n",
        "    \"modo-2\": [\n",
        "               271,\n",
        "               281,\n",
        "               291,\n",
        "               301,\n",
        "               311,\n",
        "               321,\n",
        "               326,\n",
        "               331,\n",
        "               336,\n",
        "               338,\n",
        "               340,\n",
        "               342,\n",
        "               344,\n",
        "               346,\n",
        "               348,\n",
        "               349,\n",
        "               350,\n",
        "               351,\n",
        "               352,\n",
        "               353,\n",
        "               354,\n",
        "               355,\n",
        "               356,\n",
        "               357,\n",
        "               359,\n",
        "               361,\n",
        "               363,\n",
        "               365,\n",
        "               370,\n",
        "               375,\n",
        "               380,\n",
        "               385,\n",
        "               390,\n",
        "               400,\n",
        "               410,\n",
        "               420,\n",
        "               430,\n",
        "               440,\n",
        "               450,\n",
        "               460,\n",
        "     ],\n",
        "    \"modo-3\": [\n",
        "               475,\n",
        "               485,\n",
        "               495,\n",
        "               505, # di 10 in 10\n",
        "               510,\n",
        "               515,\n",
        "               520, # di 5 in 5\n",
        "               522,\n",
        "               524,\n",
        "               526, # di 2 in 2\n",
        "               527,\n",
        "               528,\n",
        "               529, # armonica 3\n",
        "               530,\n",
        "               531,\n",
        "               532, # di 2 in 2\n",
        "               534,\n",
        "               536,\n",
        "               538,\n",
        "               540, # di 5 in 5\n",
        "               545,\n",
        "               550,\n",
        "               555, # di 10 in 10\n",
        "               565,\n",
        "               575,\n",
        "               585,\n",
        "    ]\n",
        "}\n",
        "\n",
        "ampiezza = {\n",
        "    \"modo-1\": [\n",
        "               38,\n",
        "               40,\n",
        "               54,\n",
        "               54,\n",
        "               62,\n",
        "               76,\n",
        "               88,\n",
        "               110,\n",
        "               148,\n",
        "               166,\n",
        "               190,\n",
        "               216,\n",
        "               244,\n",
        "               264,\n",
        "               276,\n",
        "               284,\n",
        "               280,\n",
        "               272,\n",
        "               256,\n",
        "               220,\n",
        "               184,\n",
        "               152,\n",
        "               128,\n",
        "               108,\n",
        "               96,\n",
        "               88,\n",
        "               64,\n",
        "               48,\n",
        "               40,\n",
        "               32,\n",
        "               28\n",
        "    ],\n",
        "    \"modo-2\": [\n",
        "               32,\n",
        "               31,\n",
        "               34,\n",
        "               38,\n",
        "               44,\n",
        "               54,\n",
        "               60,\n",
        "               65,\n",
        "               81,\n",
        "               88,\n",
        "               102,\n",
        "               108,\n",
        "               128,\n",
        "               152,\n",
        "               190,\n",
        "               216,\n",
        "               244,\n",
        "               286,\n",
        "               348,\n",
        "               400,\n",
        "               454,\n",
        "               432,\n",
        "               380,\n",
        "               324,\n",
        "               236,\n",
        "               176,\n",
        "               140,\n",
        "               112,\n",
        "               80,\n",
        "               64,\n",
        "               46,\n",
        "               38,\n",
        "               32,\n",
        "               27,\n",
        "               26,\n",
        "               20,\n",
        "               19,\n",
        "               20,\n",
        "               19,\n",
        "               19,\n",
        "\n",
        "    ],\n",
        "    \"modo-3\": [\n",
        "               20,\n",
        "               23,\n",
        "               28,\n",
        "               37,\n",
        "               46,\n",
        "               62,\n",
        "               93,\n",
        "               115,\n",
        "               160,\n",
        "               236,\n",
        "               300,\n",
        "               380,\n",
        "               420,\n",
        "               372,\n",
        "               296,\n",
        "               232,\n",
        "               160,\n",
        "               120,\n",
        "               96,\n",
        "               80,\n",
        "               55,\n",
        "               44,\n",
        "               37,\n",
        "               29,\n",
        "               25,\n",
        "               22\n",
        "    ]\n",
        "}"
      ],
      "execution_count": 8,
      "outputs": []
    },
    {
      "cell_type": "markdown",
      "metadata": {
        "id": "7s_Bzw21GCeR"
      },
      "source": [
        "### Carico Dati"
      ]
    },
    {
      "cell_type": "code",
      "metadata": {
        "id": "4FELnuJ2ECmK",
        "colab": {
          "base_uri": "https://localhost:8080/",
          "height": 231
        },
        "outputId": "875ffeab-6b47-4643-cb7d-e2768da2427b"
      },
      "source": [
        "with open(\"dati_ampiezza_modo_1.txt\", \"w\") as f:\n",
        "  row = \"\"\n",
        "  for index in range(len(frequenza[\"modo-1\"])):\n",
        "    row += str(frequenza[\"modo-2\"][index]) + \"\\t\" + str(round(ampiezza[\"modo-1\"][index] * (10**(-3)), 4  )) + \"\\n\"\n",
        "  f.write(row)\n",
        "\n",
        "# print(len(frequenza[\"modo-1\"]))"
      ],
      "execution_count": null,
      "outputs": [
        {
          "output_type": "error",
          "ename": "IndexError",
          "evalue": "ignored",
          "traceback": [
            "\u001b[0;31m---------------------------------------------------------------------------\u001b[0m",
            "\u001b[0;31mIndexError\u001b[0m                                Traceback (most recent call last)",
            "\u001b[0;32m<ipython-input-90-9f12d20cfd45>\u001b[0m in \u001b[0;36m<module>\u001b[0;34m()\u001b[0m\n\u001b[1;32m      2\u001b[0m   \u001b[0mrow\u001b[0m \u001b[0;34m=\u001b[0m \u001b[0;34m\"\"\u001b[0m\u001b[0;34m\u001b[0m\u001b[0;34m\u001b[0m\u001b[0m\n\u001b[1;32m      3\u001b[0m   \u001b[0;32mfor\u001b[0m \u001b[0mindex\u001b[0m \u001b[0;32min\u001b[0m \u001b[0mrange\u001b[0m\u001b[0;34m(\u001b[0m\u001b[0mlen\u001b[0m\u001b[0;34m(\u001b[0m\u001b[0mfrequenza\u001b[0m\u001b[0;34m[\u001b[0m\u001b[0;34m\"modo-2\"\u001b[0m\u001b[0;34m]\u001b[0m\u001b[0;34m)\u001b[0m\u001b[0;34m)\u001b[0m\u001b[0;34m:\u001b[0m\u001b[0;34m\u001b[0m\u001b[0;34m\u001b[0m\u001b[0m\n\u001b[0;32m----> 4\u001b[0;31m     \u001b[0mrow\u001b[0m \u001b[0;34m+=\u001b[0m \u001b[0mstr\u001b[0m\u001b[0;34m(\u001b[0m\u001b[0mfrequenza\u001b[0m\u001b[0;34m[\u001b[0m\u001b[0;34m\"modo-2\"\u001b[0m\u001b[0;34m]\u001b[0m\u001b[0;34m[\u001b[0m\u001b[0mindex\u001b[0m\u001b[0;34m]\u001b[0m\u001b[0;34m)\u001b[0m \u001b[0;34m+\u001b[0m \u001b[0;34m\"\\t\"\u001b[0m \u001b[0;34m+\u001b[0m \u001b[0mstr\u001b[0m\u001b[0;34m(\u001b[0m\u001b[0mround\u001b[0m\u001b[0;34m(\u001b[0m\u001b[0mampiezza\u001b[0m\u001b[0;34m[\u001b[0m\u001b[0;34m\"modo-1\"\u001b[0m\u001b[0;34m]\u001b[0m\u001b[0;34m[\u001b[0m\u001b[0mindex\u001b[0m\u001b[0;34m]\u001b[0m \u001b[0;34m*\u001b[0m \u001b[0;34m(\u001b[0m\u001b[0;36m10\u001b[0m\u001b[0;34m**\u001b[0m\u001b[0;34m(\u001b[0m\u001b[0;34m-\u001b[0m\u001b[0;36m3\u001b[0m\u001b[0;34m)\u001b[0m\u001b[0;34m)\u001b[0m\u001b[0;34m,\u001b[0m \u001b[0;36m4\u001b[0m  \u001b[0;34m)\u001b[0m\u001b[0;34m)\u001b[0m \u001b[0;34m+\u001b[0m \u001b[0;34m\"\\n\"\u001b[0m\u001b[0;34m\u001b[0m\u001b[0;34m\u001b[0m\u001b[0m\n\u001b[0m\u001b[1;32m      5\u001b[0m   \u001b[0mf\u001b[0m\u001b[0;34m.\u001b[0m\u001b[0mwrite\u001b[0m\u001b[0;34m(\u001b[0m\u001b[0mrow\u001b[0m\u001b[0;34m)\u001b[0m\u001b[0;34m\u001b[0m\u001b[0;34m\u001b[0m\u001b[0m\n\u001b[1;32m      6\u001b[0m \u001b[0;34m\u001b[0m\u001b[0m\n",
            "\u001b[0;31mIndexError\u001b[0m: list index out of range"
          ]
        }
      ]
    },
    {
      "cell_type": "markdown",
      "metadata": {
        "id": "Vr9rsaCWGJRu"
      },
      "source": [
        "### Plot Dei Dati"
      ]
    },
    {
      "cell_type": "code",
      "metadata": {
        "colab": {
          "base_uri": "https://localhost:8080/",
          "height": 530
        },
        "id": "ENbUSt46GeIv",
        "outputId": "ef364c8f-c2bf-463b-fe55-bd075d8cb7d5"
      },
      "source": [
        "x = np.array(frequenza[\"modo-1\"][2:])\n",
        "y = np.array([k / 2 for k in ampiezza[\"modo-1\"]][2:])\n",
        "k = np.array(frequenza[\"modo-2\"])\n",
        "j = np.array([k / 2 for k in ampiezza[\"modo-2\"]])\n",
        "p = np.array(frequenza[\"modo-3\"])\n",
        "u = np.array([k / 2 for k in ampiezza[\"modo-3\"]])\n",
        "\n",
        "#y_err = np.array(w_err)\n",
        "#x_err = np.array(k_err)\n",
        "\n",
        "plt.figure(figsize=(14, 8))\n",
        "plt.title(\"Dati sperimentali\")\n",
        "plt.xlabel(\"frequenza(hz)\")\n",
        "plt.ylabel(\"Ampiezza(mV)\")\n",
        "plt.grid()\n",
        "plt.scatter(x,y)\n",
        "plt.scatter(k, j)\n",
        "plt.scatter(p, u)"
      ],
      "execution_count": 83,
      "outputs": [
        {
          "output_type": "execute_result",
          "data": {
            "text/plain": [
              "<matplotlib.collections.PathCollection at 0x7f97b0f2bc90>"
            ]
          },
          "metadata": {
            "tags": []
          },
          "execution_count": 83
        },
        {
          "output_type": "display_data",
          "data": {
            "image/png": "[encoded data removed]",
            "text/plain": [
              "<Figure size 1008x576 with 1 Axes>"
            ]
          },
          "metadata": {
            "tags": [],
            "needs_background": "light"
          }
        }
      ]
    },
    {
      "cell_type": "markdown",
      "metadata": {
        "id": "3M0IYXZ4I_fY"
      },
      "source": [
        "### Fit Dei Dati"
      ]
    },
    {
      "cell_type": "code",
      "metadata": {
        "id": "w1zgXmjBJCDt"
      },
      "source": [
        "def funzione_fit(p, omega):\n",
        "  y = p[0] / (np.sqrt((p[1] **2 - (omega + p[3]) ** 2) + 4* (p[2]**2)*((omega + p[3])**2) ))\n",
        "  return y \n"
      ],
      "execution_count": 141,
      "outputs": []
    },
    {
      "cell_type": "code",
      "metadata": {
        "id": "NvJoBeCKJcT_"
      },
      "source": [
        "def fitplot(a, w_0, gamma, p, data):\n",
        "  x = [2 * np.pi * i for i in data[0]]\n",
        "  y = data[1]\n",
        "  \n",
        "  modello = odr.Model(funzione_fit)\n",
        "  fit_data = odr.RealData(x, y)\n",
        "  beta0 = np.array([a,w_0, gamma, p]) #array of initial guesses\n",
        "  fit = odr.ODR(fit_data, modello, beta0=beta0)\n",
        "  out = fit.run()\n",
        "  sample_x = np.linspace(0,np.amax(x),1000)\n",
        "  plt.show()\n",
        "  \n",
        "  plt.figure(figsize=(9, 6))\n",
        "  plt.errorbar(x, y, xerr=3.14, yerr=0.5, capsize=10)\n",
        "  plt.scatter(x, y, label=\"exp\")\n",
        "  plt.plot(sample_x, funzione_fit(beta0, sample_x), color=[0, 1, 0], linewidth=4, label=\"guess\")\n",
        "  plt.plot(sample_x, funzione_fit(out.beta, sample_x), color=[1,0,0], linewidth=3, label=\"fit\")\n",
        "  plt.grid(which='both')\n",
        "  plt.legend()\n",
        "  plt.show()\n",
        "\n",
        "  labels = [\"F0/m\", \"w0\", \"Gamma\", \"mu\"]\n",
        "  for i in range(len(labels)):\n",
        "    print(f\"{labels[i]}: {out.beta[i]}\")"
      ],
      "execution_count": 158,
      "outputs": []
    },
    {
      "cell_type": "code",
      "metadata": {
        "colab": {
          "base_uri": "https://localhost:8080/",
          "height": 1000
        },
        "id": "8wiQUebDNPiG",
        "outputId": "a8d1d383-107c-4c59-e4ea-a6cb21978e82"
      },
      "source": [
        "fitplot(22807.343162796435, 161.2238980305886, -2.0661695423586703, -1107.2050291242774, [x,y])\n",
        "fitplot(4123.81566454071, 18.2871773805663, 0.6933407959515427, -2225.260411424086, [k, j])\n",
        "fitplot(2622.4975223290216, 12.641104626318063, 0.6928755429365164, -3321.6293511487843, [p, u])"
      ],
      "execution_count": 159,
      "outputs": [
        {
          "output_type": "display_data",
          "data": {
            "image/png": "[encoded data removed]",
            "text/plain": [
              "<Figure size 648x432 with 1 Axes>"
            ]
          },
          "metadata": {
            "tags": [],
            "needs_background": "light"
          }
        },
        {
          "output_type": "stream",
          "text": [
            "F0/m: 19736.365469038687\n",
            "w0: 139.51530658506124\n",
            "Gamma: -1.8054391728592913\n",
            "mu: -1107.204982152141\n"
          ],
          "name": "stdout"
        },
        {
          "output_type": "display_data",
          "data": {
            "image/png": "[encoded data removed]",
            "text/plain": [
              "<Figure size 648x432 with 1 Axes>"
            ]
          },
          "metadata": {
            "tags": [],
            "needs_background": "light"
          }
        },
        {
          "output_type": "stream",
          "text": [
            "F0/m: 4294.074100753317\n",
            "w0: 19.042212064316125\n",
            "Gamma: 0.7072239486161752\n",
            "mu: -2225.260495470308\n"
          ],
          "name": "stdout"
        },
        {
          "output_type": "stream",
          "text": [
            "/usr/local/lib/python3.7/dist-packages/ipykernel_launcher.py:2: RuntimeWarning: invalid value encountered in sqrt\n",
            "  \n"
          ],
          "name": "stderr"
        },
        {
          "output_type": "display_data",
          "data": {
            "image/png": "[encoded data removed]",
            "text/plain": [
              "<Figure size 648x432 with 1 Axes>"
            ]
          },
          "metadata": {
            "tags": [],
            "needs_background": "light"
          }
        },
        {
          "output_type": "stream",
          "text": [
            "F0/m: 1947.7171667622606\n",
            "w0: 9.285693731534955\n",
            "Gamma: 0.6108835435231554\n",
            "mu: -3323.9268487431737\n"
          ],
          "name": "stdout"
        }
      ]
    },
    {
      "cell_type": "code",
      "metadata": {
        "colab": {
          "base_uri": "https://localhost:8080/"
        },
        "id": "cgmF7HzThB2f",
        "outputId": "6d314d7b-d85a-4611-ccdb-aa6de7e07c21"
      },
      "source": [
        "9.285693731534955 / (2 * 0.6108835435231554)"
      ],
      "execution_count": 160,
      "outputs": [
        {
          "output_type": "execute_result",
          "data": {
            "text/plain": [
              "7.6002159740475825"
            ]
          },
          "metadata": {
            "tags": []
          },
          "execution_count": 160
        }
      ]
    },
    {
      "cell_type": "code",
      "metadata": {
        "colab": {
          "base_uri": "https://localhost:8080/"
        },
        "id": "NbM63dkStbzj",
        "outputId": "ad713896-01ac-4089-c7ce-3f13cfd91f88"
      },
      "source": [
        "19.042212064316125 / (2 * 0.7072239486161752)"
      ],
      "execution_count": 161,
      "outputs": [
        {
          "output_type": "execute_result",
          "data": {
            "text/plain": [
              "13.462646522064201"
            ]
          },
          "metadata": {
            "tags": []
          },
          "execution_count": 161
        }
      ]
    },
    {
      "cell_type": "code",
      "metadata": {
        "colab": {
          "base_uri": "https://localhost:8080/"
        },
        "id": "eLG1wSsGthsw",
        "outputId": "c662091e-3065-46b1-ca03-86d7a7fbf17a"
      },
      "source": [
        "139.51530658506124 / (2 * (-1.8054391728592913))"
      ],
      "execution_count": 162,
      "outputs": [
        {
          "output_type": "execute_result",
          "data": {
            "text/plain": [
              "-38.63749847747834"
            ]
          },
          "metadata": {
            "tags": []
          },
          "execution_count": 162
        }
      ]
    }
  ]
}